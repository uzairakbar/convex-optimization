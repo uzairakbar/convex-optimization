{
 "cells": [
  {
   "cell_type": "markdown",
   "metadata": {
    "colab_type": "text",
    "id": "PtbKyLoi2YZc"
   },
   "source": [
    "# Convex Optimization for Machine Learning & Computer Vision\n",
    "## Week 6 Programming Exercise - Multinomial Logistic Regression\n",
    "| Name  | Matriculation Number  | E-mail  |\n",
    "| :------- | :----------------------- | :--------- |\n",
    "| Akbar, Uzair   | 03697290 | [uzair.akbar@tum.de](mailto:uzair.akbar@tum.de) |"
   ]
  },
  {
   "cell_type": "code",
   "execution_count": 0,
   "metadata": {
    "colab": {},
    "colab_type": "code",
    "id": "_MyPGVKU2WOh"
   },
   "outputs": [],
   "source": [
    "import numpy as np\n",
    "import matplotlib.pyplot as plt\n",
    "from urllib import request\n",
    "import os\n",
    "import gzip\n",
    "import shutil"
   ]
  },
  {
   "cell_type": "code",
   "execution_count": 0,
   "metadata": {
    "colab": {},
    "colab_type": "code",
    "id": "PLeuz7jgq2sR"
   },
   "outputs": [],
   "source": [
    "# Toy data related\n",
    "\n",
    "_TOY_DATA_CLUSTER_CENTERS = ((2, -4), (-3, 3), (3, 1), (-5, -2), (-4, -5))\n",
    "_TOY_DATA_COLORS = ('g', 'r', 'b', 'm', 'y')\n",
    "\n",
    "\n",
    "def get_toy_data(classes=5,\n",
    "                 samples_per_class=500,\n",
    "                 feature_dim=2,\n",
    "                 noise_dim=100,\n",
    "                 feature_sigma=1.0,\n",
    "                 noise_sigma=3.0,\n",
    "                 cluster_centers=_TOY_DATA_CLUSTER_CENTERS,\n",
    "                 test_ratio=0.1,\n",
    "                 visualize=True):\n",
    "    num_samples = samples_per_class * classes\n",
    "    total_dim = feature_dim + noise_dim + 1\n",
    "    data = np.zeros((num_samples, total_dim))\n",
    "    for j in range(classes):\n",
    "        # generate useful features\n",
    "        data[j*samples_per_class:(j+1)*samples_per_class, 0:feature_dim] = \\\n",
    "            np.array(cluster_centers[j]).reshape(1, feature_dim) + \\\n",
    "            np.random.randn(samples_per_class, feature_dim) * feature_sigma\n",
    "        # generate random features\n",
    "        data[j*samples_per_class:(j+1)*samples_per_class,\n",
    "             feature_dim:total_dim-1] = \\\n",
    "            np.random.randn(samples_per_class, noise_dim) * noise_sigma\n",
    "        # generate ground-truth labels\n",
    "        data[j*samples_per_class:(j+1)*samples_per_class, total_dim-1] = \\\n",
    "            np.ones(samples_per_class) * j\n",
    "    # shuffle data\n",
    "    data = np.random.permutation(data)\n",
    "    # Split data into training and test set\n",
    "    sp_idx = num_samples - int(test_ratio * num_samples)\n",
    "    train_data = data[:sp_idx, :]\n",
    "    test_data = data[sp_idx:, :]\n",
    "    # visualize if asked to\n",
    "    if visualize:\n",
    "        plt.figure('train_data')\n",
    "        train_colors = [_TOY_DATA_COLORS[int(c)] for c in train_data[:, -1]]\n",
    "        plt.scatter(train_data[:, 0], train_data[:, 1], c=train_colors)\n",
    "        plt.figure('test_data')\n",
    "        test_colors = [_TOY_DATA_COLORS[int(c)] for c in test_data[:, -1]]\n",
    "        plt.scatter(test_data[:, 0], test_data[:, 1], c=test_colors)\n",
    "        plt.show()\n",
    "    return train_data, test_data, classes"
   ]
  },
  {
   "cell_type": "code",
   "execution_count": 0,
   "metadata": {
    "colab": {},
    "colab_type": "code",
    "id": "4F6AR0_iq-7J"
   },
   "outputs": [],
   "source": [
    "# MNIST data related\n",
    "\n",
    "MNIST_CLASSES = 10\n",
    "_MNIST_URL_BASE = 'http://yann.lecun.com/exdb/mnist/'\n",
    "_MNIST_FILES = {'train_image': 'train-images-idx3-ubyte',\n",
    "                'train_label': 'train-labels-idx1-ubyte',\n",
    "                'test_image': 't10k-images-idx3-ubyte',\n",
    "                'test_label': 't10k-labels-idx1-ubyte'}\n",
    "\n",
    "\n",
    "def download_unzip_gz(from_url, save_as):\n",
    "    print('Downloading from {}'.format(from_url))\n",
    "    with request.urlopen(from_url) as src, open(save_as, 'wb') as dst:\n",
    "        shutil.copyfileobj(gzip.GzipFile(fileobj=src), dst)\n",
    "    print('Saved as {}'.format(save_as))\n",
    "\n",
    "\n",
    "def load_MNIST_images(from_file):\n",
    "    with open(from_file, 'rb') as content:\n",
    "        return np.frombuffer(content.read(), np.uint8, offset=16\n",
    "                             ).reshape(-1, 28*28)\n",
    "\n",
    "\n",
    "def load_MNIST_labels(from_file):\n",
    "    with open(from_file, 'rb') as content:\n",
    "        return np.frombuffer(content.read(), np.uint8, offset=8).reshape(-1, 1)\n",
    "\n",
    "\n",
    "def visualize_MNIST_data(data, rows=6, cols=10):\n",
    "    out = np.zeros((28 * rows, 28 * cols))\n",
    "    for r in range(rows):\n",
    "        for c in range(cols):\n",
    "            out[r*28:(r+1)*28, c*28:(c+1)*28] = \\\n",
    "                data[r+rows*c, :-1].reshape(28, 28)\n",
    "    plt.figure('MNIST training image examples')\n",
    "    plt.imshow(out / 255., cmap='gray')\n",
    "    plt.show()\n",
    "\n",
    "\n",
    "def get_MNIST_data(save_dir='.', visualize=True):\n",
    "    # download MNIST data if not present already\n",
    "    for filename in _MNIST_FILES.values():\n",
    "        filepath = os.path.join(save_dir, filename)\n",
    "        if os.path.exists(filepath):\n",
    "            print('Found {}'.format(filepath))\n",
    "        else:\n",
    "            download_unzip_gz(_MNIST_URL_BASE+filename+'.gz', filepath)\n",
    "    # load MNIST data\n",
    "    train_image = load_MNIST_images(\n",
    "            os.path.join(save_dir, _MNIST_FILES['train_image']))\n",
    "    train_label = load_MNIST_labels(\n",
    "            os.path.join(save_dir, _MNIST_FILES['train_label']))\n",
    "    train_data = np.concatenate((train_image, train_label),\n",
    "                                axis=1).astype(np.float64)\n",
    "    test_image = load_MNIST_images(\n",
    "            os.path.join(save_dir, _MNIST_FILES['test_image']))\n",
    "    test_label = load_MNIST_labels(\n",
    "            os.path.join(save_dir, _MNIST_FILES['test_label']))\n",
    "    test_data = np.concatenate((test_image, test_label),\n",
    "                               axis=1).astype(np.float64)\n",
    "    # visualize examples if required\n",
    "    visualize_MNIST_data(train_data)\n",
    "    return train_data, test_data, MNIST_CLASSES"
   ]
  },
  {
   "cell_type": "code",
   "execution_count": 0,
   "metadata": {
    "colab": {},
    "colab_type": "code",
    "id": "tciloI_5rCHh"
   },
   "outputs": [],
   "source": [
    "# optimization related\n",
    "\n",
    "def softmax(z, dim):\n",
    "    ez = np.exp(z - np.max(z, dim, keepdims=True))\n",
    "    return ez / np.sum(ez, dim, keepdims=True)\n",
    "\n",
    "def log_softmax(z, dim):\n",
    "    dz = z - np.max(z, dim, keepdims=True)\n",
    "    return dz - np.log(np.sum(np.exp(dz), dim, keepdims=True))\n",
    "\n",
    "def classifier(X, W, b):\n",
    "    return X @ W + b\n",
    "\n",
    "def score(X, W, b):\n",
    "    return softmax(classifier(X, W, b), 1)\n",
    "\n",
    "def average_loss(X, y, W, b):\n",
    "    y = y.astype(np.long)\n",
    "    return np.mean(-log_softmax(classifier(X, W, b), 1)[np.arange(len(y)), y])\n",
    "\n",
    "# the differentiable objective\n",
    "def objective_diff(X, y, W, b, lambda1, lambda2):\n",
    "    return average_loss(X, y, W, b) + 0.5 * lambda2 * np.sum(np.square(b)) + \\\n",
    "        0.5 * lambda1 * np.sum(np.square(W))\n",
    "\n",
    "# the non-differentiable objective\n",
    "def objective_nondiff(X, y, W, b, lambda1, lambda2):\n",
    "    return average_loss(X, y, W, b) + 0.5 * lambda2 * np.sum(np.square(b)) + \\\n",
    "        0.5 * lambda1 * np.sum(np.sqrt(np.sum(np.square(W), 1)))"
   ]
  },
  {
   "cell_type": "markdown",
   "metadata": {
    "colab_type": "text",
    "id": "1D1VkKWJdWL9"
   },
   "source": [
    "It is [straighhtforward to show](https://math.stackexchange.com/questions/1428344/what-is-the-derivation-of-the-derivative-of-softmax-regression-or-multinomial-l) that the gradient of the log-softmax loss can be re-written in vector form as the following.\n",
    "\n",
    "$\n",
    "\\begin{align}\n",
    "\\nabla_{\\mathbf{W}}\\,\\mathcal{l}(\\mathbf{W}, \\mathbf{b}, \\mathbf{x}, \\mathbf{y}) & = & -\\frac{1}{N}\\mathbf{x}^T\\Big( \\mathbf{y} - \\sigma(\\mathbf{W}^T\\mathbf{x} + \\mathbf{b})\\Big)\\\\\n",
    "\\nabla_{\\mathbf{b}}\\,\\mathcal{l}(\\mathbf{W}, \\mathbf{b}, \\mathbf{x}, \\mathbf{y}) & = & -\\frac{1}{N} \\Big( \\mathbf{y} - \\sigma(\\mathbf{W}^T\\mathbf{x} + \\mathbf{b})\\Big).\n",
    "\\end{align}\n",
    "$\n",
    "\n",
    "Where $\\mathbf{y} \\in \\{0, 1\\}^K$ is a one-hot vector with $y_k = 1$ for ground-truth class $k$ and $\\sigma(.)$ is the soft-max function.\n"
   ]
  },
  {
   "cell_type": "code",
   "execution_count": 0,
   "metadata": {
    "colab": {},
    "colab_type": "code",
    "id": "SZDn7joF4Jxg"
   },
   "outputs": [],
   "source": [
    "# gradient related\n",
    "\n",
    "# one hot representation\n",
    "def one_hot(t, c):\n",
    "    return np.eye(c)[t.astype(np.int)]\n",
    "\n",
    "# TODO: gradients of the average logsoftmax loss w.r.t. W\n",
    "def grad_W_avgloss(X, score, y):\n",
    "    return np.matmul(X.T, (score - one_hot(y, score.shape[1]))) / X.shape[0]\n",
    "\n",
    "# TODO: gradients of the average logsoftmax loss w.r.t. b\n",
    "# You can use e.g. scipy.optimize.minimize to compare your result for the\n",
    "# differentiable objective objective_diff.\n",
    "def grad_b_avgloss(score, y):\n",
    "    return np.mean(score - one_hot(y, score.shape[1]), axis=0)\n",
    "\n",
    "# TODO: gradients of the square regularization term for W in objective_diff\n",
    "def grad_W_sqreg(W, lambda1):\n",
    "    return lambda1 * W\n",
    "\n",
    "# TODO: gradients of the square regularization term for b in both objectives\n",
    "def grad_b_sqreg(b, lambda2):\n",
    "    return lambda2 * b"
   ]
  },
  {
   "cell_type": "markdown",
   "metadata": {
    "colab_type": "text",
    "id": "PankhOBYX9lV"
   },
   "source": [
    "For $J(\\mathbf{X})=\\frac{\\lambda_1}{2}\\left\\Vert{\\mathbf{X}}\\right\\Vert_{1, 2}$, the definition of the proximal operator gives\n",
    "\n",
    "\n",
    "$\n",
    "\\begin{align*}\n",
    "\\because\\; & \\text{prox}_{\\tau J}\\big(\\mathbf{X}\\big) & :=\\; & \\arg \\min_\\mathbf{Y} J(\\mathbf{Y}) + \\frac{1}{2\\tau}\\left\\Vert \\mathbf{Y} - \\mathbf{X} \\right\\Vert^2_2 & & \\\\\n",
    "\\Rightarrow & & =\\; & \\arg \\min_\\mathbf{Y} \\frac{\\lambda_1}{2}\\left\\Vert{\\mathbf{Y}}\\right\\Vert_{1, 2} + \\frac{1}{2\\tau}\\left\\Vert \\mathbf{Y} - \\mathbf{X} \\right\\Vert^2_2 & & \\\\\n",
    "\\Rightarrow & & =\\; & \\arg \\min_\\mathbf{Y} \\frac{\\lambda_1}{2}\\Big(\\left\\Vert{\\mathbf{Y}}\\right\\Vert_{1, 2} + \\frac{1}{2}\\frac{2}{\\tau\\lambda_1}\\left\\Vert \\mathbf{Y} - \\mathbf{X} \\right\\Vert^2_2\\Big) & & \\\\\n",
    "\\Rightarrow & & =\\; & \\arg \\min_\\mathbf{Y}\\left\\Vert{\\mathbf{Y}}\\right\\Vert_{1, 2} + \\frac{1}{2\\tau'}\\left\\Vert \\mathbf{Y} - \\mathbf{X} \\right\\Vert^2_2\\;&,\\;\\;\\;\\; & \\tau'=\\frac{\\tau\\lambda_1}{2}\\\\\n",
    "\\therefore\\; & \\text{prox}_{\\tau J}\\big(\\mathbf{X}\\big) & =\\; & \\text{prox}_{\\tau' \\left\\Vert . \\right\\Vert_{1, 2}}\\big(\\mathbf{X}\\big)\\;&,\\;\\;\\;\\; & \\tau'=\\frac{\\tau\\lambda_1}{2}\n",
    "\\end{align*}\n",
    "$\n",
    "\n",
    "As we already know from [theoretical exercise 6.4](https://github.com/uzairakbar/convex-optimization/blob/master/exercises/week6/solutionSubmission6.pdf), the proximal operator for the $l_{1, 2}$-norm is given as:\n",
    "\n",
    "$\n",
    "{prox}_{\\tau' \\left\\Vert . \\right\\Vert_{1, 2}}\\big(\\mathbf{X}\\big) = \\Big\\{ \\mathbf{Y} \\in \\mathbf{R}^{m\\times n} \\;\\Big|\\; \\mathbf{Y}_i=\\begin{cases}\n",
    "\\mathbf{0}\\; & , & \\;\\left\\Vert \\mathbf{X}_i \\right\\Vert_2 \\leq \\tau'\\\\\n",
    "\\mathbf{X}_i - \\tau'\\frac{\\mathbf{X}_i}{\\left\\Vert \\mathbf{X}_i \\right\\Vert_2}\\; & , & \\;\\left\\Vert \\mathbf{X}_i \\right\\Vert_2 \\gt \\tau'\n",
    "\\end{cases}\\Big\\}\n",
    "$"
   ]
  },
  {
   "cell_type": "code",
   "execution_count": 6,
   "metadata": {
    "colab": {
     "base_uri": "https://localhost:8080/",
     "height": 911
    },
    "colab_type": "code",
    "id": "bROWhoG6Hztd",
    "outputId": "ab95bb1d-98c4-4b21-dc74-49784cc10bbe"
   },
   "outputs": [
    {
     "name": "stdout",
     "output_type": "stream",
     "text": [
      "Downloading from http://yann.lecun.com/exdb/mnist/train-images-idx3-ubyte.gz\n",
      "Saved as ./train-images-idx3-ubyte\n",
      "Downloading from http://yann.lecun.com/exdb/mnist/train-labels-idx1-ubyte.gz\n",
      "Saved as ./train-labels-idx1-ubyte\n",
      "Downloading from http://yann.lecun.com/exdb/mnist/t10k-images-idx3-ubyte.gz\n",
      "Saved as ./t10k-images-idx3-ubyte\n",
      "Downloading from http://yann.lecun.com/exdb/mnist/t10k-labels-idx1-ubyte.gz\n",
      "Saved as ./t10k-labels-idx1-ubyte\n"
     ]
    },
    {
     "data": {
      "image/png": "[encoded data removed]",
      "text/plain": [
       "<Figure size 432x288 with 1 Axes>"
      ]
     },
     "metadata": {
      "tags": []
     },
     "output_type": "display_data"
    },
    {
     "name": "stdout",
     "output_type": "stream",
     "text": [
      "iteration=0\t |\t obj=12.60\t |\t train=89.10\t |\t test=88.41\n",
      "iteration=500\t |\t obj=1.39\t |\t train=10.29\t |\t test=9.92\n",
      "iteration=1000\t |\t obj=0.86\t |\t train=11.89\t |\t test=11.26\n",
      "iteration=1500\t |\t obj=0.86\t |\t train=11.98\t |\t test=11.17\n",
      "iteration=2000\t |\t obj=0.85\t |\t train=12.01\t |\t test=11.16\n",
      "iteration=2500\t |\t obj=0.85\t |\t train=12.01\t |\t test=11.17\n",
      "iteration=3000\t |\t obj=0.85\t |\t train=12.04\t |\t test=11.18\n",
      "iteration=3500\t |\t obj=0.85\t |\t train=12.05\t |\t test=11.17\n",
      "iteration=4000\t |\t obj=0.85\t |\t train=12.05\t |\t test=11.18\n",
      "iteration=4500\t |\t obj=0.85\t |\t train=12.04\t |\t test=11.20\n",
      "iteration=5000\t |\t obj=0.85\t |\t train=12.05\t |\t test=11.18\n",
      "iteration=5500\t |\t obj=0.85\t |\t train=12.06\t |\t test=11.18\n"
     ]
    },
    {
     "data": {
      "image/png": "[encoded data removed]",
      "text/plain": [
       "<Figure size 1080x360 with 3 Axes>"
      ]
     },
     "metadata": {
      "tags": []
     },
     "output_type": "display_data"
    }
   ],
   "source": [
    "np.random.seed(43)  # manual random seed for reproducible results\n",
    "use_mnist = True  # REMARK: set to true once your code works on toy data\n",
    "\n",
    "# get data\n",
    "if use_mnist:\n",
    "    train_data, test_data, classes = get_MNIST_data(save_dir='.',\n",
    "                                                    visualize=True)\n",
    "else:\n",
    "    train_data, test_data, classes = get_toy_data(visualize=True)\n",
    "X, X_test = train_data[:, :-1], test_data[:, :-1]\n",
    "feature_dim = X.shape[1]\n",
    "y, y_test = train_data[:, -1], test_data[:, -1]\n",
    "\n",
    "# Normalize input data\n",
    "X, X_test = X / np.max(X), X_test / np.max(X_test)\n",
    "\n",
    "# initialize parameters to be trained\n",
    "W = np.random.rand(feature_dim, classes)\n",
    "b = np.zeros((1, classes))\n",
    "\n",
    "# TODO(optional): Do derivative check (for debugging only).\n",
    "# You can use scipy.optimize.grad_check on objective_diff to verify the 4\n",
    "# gradient functions you have implemented.\n",
    "pass\n",
    "\n",
    "# define optimization parameters\n",
    "lambda1, lambda2 = 0.01, 0.02\n",
    "max_iter = 6000\n",
    "if use_mnist:\n",
    "    tau = 0.7\n",
    "else:\n",
    "    tau = 1 / (np.mean(np.sum(np.square(X), axis=1)) + lambda1)\n",
    "threshold = 1e-12\n",
    "\n",
    "# define lists that should be filled up in the following updates\n",
    "obj_val = []\n",
    "train_error = []\n",
    "test_error = []\n",
    "# perform proximal gradient iterations\n",
    "for i in range(max_iter):\n",
    "    # TODO: implement proximal gradient here...\n",
    "    ########################################################################\n",
    "    # calculate the train and test score\n",
    "    score_train, score_test = score(X, W, b), score(X_test, W, b)\n",
    "\n",
    "    # calculate the train and test prediction\n",
    "    prediction_train, prediction_test = (np.argmax(score_train, axis=1), \n",
    "                                         np.argmax(score_test, axis=1))\n",
    "\n",
    "    # calculate objective value, test error and training error\n",
    "    obj_val.append(objective_nondiff(X, y, W, b, lambda1, lambda2))\n",
    "    train_error.append(np.mean((prediction_train != y\n",
    "                                ).astype(np.float))*100.)\n",
    "    test_error.append(np.mean((prediction_test != y_test\n",
    "                                ).astype(np.float))*100.)\n",
    "    \n",
    "    # do gradient descent iteration on the differentiable objective\n",
    "    W = W - tau * grad_W_avgloss(X, score_train, y)\n",
    "    b = b - tau * (grad_b_avgloss(score_train, y) + grad_b_sqreg(b, lambda2))\n",
    "\n",
    "    # apply proximal operator of 1,2-norm to W\n",
    "    row_l2_norm = np.sqrt(np.sum(np.square(W), axis=1))\n",
    "    tau_ = tau*lambda1/2\n",
    "    W[row_l2_norm <= tau_, :] = 0\n",
    "    W[row_l2_norm > tau_, :] = W[row_l2_norm > tau_, :] - \\\n",
    "            tau_ * W[row_l2_norm > tau_, :] / row_l2_norm[row_l2_norm > tau_, np.newaxis]\n",
    "    \n",
    "    # display current results every 500 iterations\n",
    "    if i%500 == 0:\n",
    "        print('iteration={}\\t |\\t obj={:.2f}\\t |\\t train={:.2f}\\t |\\t test={:.2f}'.format(\n",
    "                i, obj_val[-1], train_error[-1], test_error[-1]))\n",
    "    ########################################################################\n",
    "    # evalualte stopping criterion\n",
    "    if i > 0 and obj_val[i-1] - obj_val[i] < threshold:\n",
    "        break\n",
    "\n",
    "# Plot objective value, train / test loss\n",
    "fig = plt.figure('Results')\n",
    "fig.set_size_inches(15, 5)\n",
    "ax = fig.add_subplot(1, 3, 1)\n",
    "ax.plot(range(len(obj_val)), obj_val, 'r')\n",
    "ax.set_title(\"Objective Value\")\n",
    "ax.grid()\n",
    "ax = fig.add_subplot(1, 3, 2)\n",
    "ax.plot(range(len(train_error)), train_error, 'g')\n",
    "ax.set_title(\"Train Error\")\n",
    "ax.grid()\n",
    "ax = fig.add_subplot(1, 3, 3)\n",
    "ax.plot(range(len(test_error)), test_error, 'b')\n",
    "ax.set_title(\"Test Error\")\n",
    "ax.grid()\n",
    "plt.show()\n",
    "# plot classifier for toy data case\n",
    "if not use_mnist:\n",
    "    s = 0.1\n",
    "    x1Grid, x2Grid = np.meshgrid(np.arange(-4, 4, s), np.arange(-4, 4, s))\n",
    "    xGrid = np.stack((x1Grid.flatten(), x2Grid.flatten()), axis=1)\n",
    "    scores_train = classifier(xGrid, W[0:2, :], b)\n",
    "    plt.figure('classifier')\n",
    "    test_colors = [_TOY_DATA_COLORS[int(c)] for c in test_data[:, -1]]\n",
    "    plt.scatter(test_data[:, 0], test_data[:, 1], c=test_colors)\n",
    "    for c in range(classes):\n",
    "        color = _TOY_DATA_COLORS[c]\n",
    "        plt.contour(x1Grid, x2Grid,\n",
    "                    scores_train[:, c].reshape(x1Grid.shape),\n",
    "                    levels=1, colors=color)\n",
    "    plt.show()"
   ]
  },
  {
   "cell_type": "markdown",
   "metadata": {
    "colab_type": "text",
    "id": "y1HYaeChpGEg"
   },
   "source": [
    "The useless features are assigned low weights in $\\mathbf{W}^\\ast$, which are the background pixels that occupy most of the area in the image (therefore, the closer a pixel is to the edge of the image, the higher the likelihood it belongs to the background and subsequently the edge pixels/features will be assigned low weights)."
   ]
  },
  {
   "cell_type": "code",
   "execution_count": 7,
   "metadata": {
    "colab": {
     "base_uri": "https://localhost:8080/",
     "height": 295
    },
    "colab_type": "code",
    "id": "4J7WV4hVn9vp",
    "outputId": "8ec2f861-3d5a-4049-d2eb-2874fffd1ce2"
   },
   "outputs": [
    {
     "data": {
      "image/png": "[encoded data removed]",
      "text/plain": [
       "<Figure size 432x288 with 1 Axes>"
      ]
     },
     "metadata": {
      "tags": []
     },
     "output_type": "display_data"
    }
   ],
   "source": [
    "# visualization of feature importance\n",
    "plt.imshow(np.abs(W.T), cmap='hot', interpolation='nearest', aspect='auto')\n",
    "plt.xlabel(\"feature index\")\n",
    "plt.ylabel(\"class\")\n",
    "plt.title(\"Feature Importance - Absolute Feature Weights\")\n",
    "plt.show()"
   ]
  },
  {
   "cell_type": "markdown",
   "metadata": {
    "colab_type": "text",
    "id": "ayUH6PCwqfap"
   },
   "source": [
    "Therefore, $l_{1, 2}$ norm performs better because it promotes sparsity, and useless features are ignored in classification. In contrast, $l_2$ norm promotes dense weights, which encourages the model to use irrelevant features despite no predictive power in terms of labels."
   ]
  },
  {
   "cell_type": "markdown",
   "metadata": {
    "colab_type": "text",
    "id": "P0fSbTVSHCsI"
   },
   "source": [
    "***"
   ]
  }
 ],
 "metadata": {
  "colab": {
   "name": "CVX4CV_LR.ipynb",
   "provenance": []
  },
  "kernelspec": {
   "display_name": "Python 3",
   "language": "python",
   "name": "python3"
  },
  "language_info": {
   "codemirror_mode": {
    "name": "ipython",
    "version": 3
   },
   "file_extension": ".py",
   "mimetype": "text/x-python",
   "name": "python",
   "nbconvert_exporter": "python",
   "pygments_lexer": "ipython3",
   "version": "3.7.3"
  }
 },
 "nbformat": 4,
 "nbformat_minor": 1
}
