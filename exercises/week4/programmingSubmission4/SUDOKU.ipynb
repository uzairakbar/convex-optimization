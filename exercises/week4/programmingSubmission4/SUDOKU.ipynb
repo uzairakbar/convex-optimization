{
 "cells": [
  {
   "cell_type": "markdown",
   "metadata": {},
   "source": [
    "# Convex Optimization for Machine Learning & Computer Vision\n",
    "## Week 5 Programming Exercise - Inpainting\n",
    "\n",
    "| Name  | Matriculation Number  | E-mail  |\n",
    "| :------- | :----------------------- | :--------- |\n",
    "| Akbar, Uzair   | 03697290 | [uzair.akbar@tum.de](mailto:uzair.akbar@tum.de) |"
   ]
  },
  {
   "cell_type": "markdown",
   "metadata": {},
   "source": [
    "# SUDOKU by projected gradient.\n",
    "In this exericse, you are required to solve a sudoku by using projected gradient algorithm. You only need to construct the correct model. The algorithm is implemented already."
   ]
  },
  {
   "cell_type": "code",
   "execution_count": 1,
   "metadata": {},
   "outputs": [],
   "source": [
    "import numpy as np;"
   ]
  },
  {
   "cell_type": "markdown",
   "metadata": {},
   "source": [
    "### First of all, one unsolved sudoku is following (0 represents missing number)."
   ]
  },
  {
   "cell_type": "code",
   "execution_count": 2,
   "metadata": {},
   "outputs": [],
   "source": [
    "sudoku = np.array([[0, 3, 0, 9, 0, 0, 5, 0, 0],\n",
    "          [0, 0, 0, 0, 0, 2, 0, 0, 9],\n",
    "          [9, 0, 4, 6, 0, 0, 8, 0, 0],\n",
    "          [0, 4, 0, 0, 6, 0, 9, 0, 1],\n",
    "          [0 ,0, 0, 8, 0, 4, 0, 0, 0],\n",
    "          [8, 0, 6, 0, 3, 0, 0, 4, 0],\n",
    "          [0, 0, 2, 0, 0, 1, 7, 0, 8],\n",
    "          [3, 0, 0, 2, 0, 0, 0, 0, 0],\n",
    "          [0, 0, 8, 0, 0, 5, 0, 6, 0]])\n"
   ]
  },
  {
   "cell_type": "markdown",
   "metadata": {},
   "source": [
    "### TODO: Implement to construct matrix A"
   ]
  },
  {
   "cell_type": "markdown",
   "metadata": {},
   "source": [
    "### Solution\n",
    "\n",
    "The individual transformations $\\mathbf{A}_i \\in \\{0, 1\\}^{n^2 \\times n^3}$ for each respective constraint are the following:\n",
    "\n",
    "$\\mathbf{A}_2 = \\mathbb{1}_n^T \\otimes \\mathbf{I}_{n^2}$\n",
    "\n",
    "$\\mathbf{A}_3 = \\big( \\mathbf{I}_{n}\\otimes \\mathbb{1}_n^T \\big) \\otimes \\mathbf{I}_n$\n",
    "\n",
    "$\\mathbf{A}_4 = \\mathbf{I}_{n^2}\\otimes \\mathbb{1}_n^T$\n",
    "\n",
    "$\\mathbf{A}_5 = \\mathbf{I}_{n}\\otimes\\Big( \\mathbf{I}_{b}\\otimes \\big( \\mathbb{1}_b^T\\otimes ( \\mathbf{I}_b \\otimes \\mathbb{1}_b^T ) \\big) \\Big)$\n",
    "\n",
    "Where $b$ is the block size. In this case $b=3, n=9$. Finally, the overall transformation matrix is:\n",
    "\n",
    "$\\mathbf{A} = \\begin{pmatrix} \n",
    "\\mathbf{A}_2 \\\\\n",
    "\\mathbf{A}_3 \\\\\n",
    "\\mathbf{A}_4 \\\\\n",
    "\\mathbf{A}_5\n",
    "\\end{pmatrix} \\;\\in \\{0, 1\\}^{4n^2 \\times n^3}$"
   ]
  },
  {
   "cell_type": "code",
   "execution_count": 3,
   "metadata": {},
   "outputs": [],
   "source": [
    "from scipy import sparse\n",
    "\n",
    "def sudokuRulesMatrix(n=9, b=3):\n",
    "    A2 = sparse.kron(np.ones(n), sparse.eye(n**2))\n",
    "    A3 = sparse.kron(sparse.kron(sparse.eye(n), \n",
    "                                 np.ones(n)), sparse.eye(n))\n",
    "    A4 = sparse.kron(sparse.eye(n**2), np.ones(n))\n",
    "    A5 = sparse.kron(sparse.eye(n),\n",
    "                     sparse.kron(sparse.eye(b),\n",
    "                                 sparse.kron(np.ones(b),\n",
    "                                             sparse.kron(sparse.eye(b), np.ones(b)))))\n",
    "    A = sparse.vstack([A2, A3, A4, A5])\n",
    "    return A"
   ]
  },
  {
   "cell_type": "code",
   "execution_count": 4,
   "metadata": {},
   "outputs": [],
   "source": [
    "def sudokuData(sudoku):\n",
    "    f = np.zeros((9,9,9))\n",
    "    for i in range(9):\n",
    "        for j in range(9):\n",
    "            k = sudoku[i,j]\n",
    "            if (k != 0):\n",
    "                f[i, j, k-1] = 1\n",
    "                \n",
    "    return f"
   ]
  },
  {
   "cell_type": "code",
   "execution_count": 5,
   "metadata": {},
   "outputs": [],
   "source": [
    "A = sudokuRulesMatrix()\n",
    "if A.shape!=(324, 729):\n",
    "    raise ValueError('the shape of A is not correct!')\n",
    "\n",
    "f = sudokuData(sudoku)\n"
   ]
  },
  {
   "cell_type": "code",
   "execution_count": 6,
   "metadata": {},
   "outputs": [
    {
     "name": "stdout",
     "output_type": "stream",
     "text": [
      "Iterations done:  0\n",
      "Iterations done:  50000\n",
      "Iterations done:  100000\n",
      "Iterations done:  150000\n",
      "Iterations done:  200000\n",
      "Iterations done:  250000\n",
      "Iterations done:  300000\n",
      "Iterations done:  350000\n",
      "Iterations done:  400000\n",
      "Iterations done:  450000\n"
     ]
    }
   ],
   "source": [
    "L  = np.linalg.norm(A.todense(), ord=2)**2\n",
    "tau = 1/L\n",
    "iters = 500000\n",
    "E = np.zeros((iters, 1))\n",
    "u = np.zeros((A.shape[1], 1))\n",
    "\n",
    "for k in range(iters):\n",
    "    grad = A.T.dot(A.dot(u) -1)\n",
    "\n",
    "    u = u-tau*grad\n",
    "    u = np.maximum(0, np.minimum(1, u))\n",
    "    u[f.T.flatten()==1] = 1\n",
    "\n",
    "    E[k] = 0.5*np.linalg.norm(A.dot(u)-1, 2)**2\n",
    "    \n",
    "    if k%50000 == 0:\n",
    "        print(\"Iterations done: \", k)"
   ]
  },
  {
   "cell_type": "code",
   "execution_count": 7,
   "metadata": {
    "scrolled": true
   },
   "outputs": [
    {
     "name": "stdout",
     "output_type": "stream",
     "text": [
      "result: \n",
      " [[7 3 1 9 4 8 5 2 6]\n",
      " [6 8 5 7 1 2 4 3 9]\n",
      " [9 2 4 6 5 3 8 1 7]\n",
      " [2 4 3 5 6 7 9 8 1]\n",
      " [5 1 9 8 2 4 6 7 3]\n",
      " [8 7 6 1 3 9 2 4 5]\n",
      " [4 6 2 3 9 1 7 5 8]\n",
      " [3 5 7 2 8 6 1 9 4]\n",
      " [1 9 8 4 7 5 3 6 2]]\n"
     ]
    }
   ],
   "source": [
    "u = np.reshape(u, (9,9,9)).T\n",
    "res = np.argmax(u, axis=2)+1\n",
    "print('result: \\n', res)"
   ]
  },
  {
   "cell_type": "code",
   "execution_count": 8,
   "metadata": {},
   "outputs": [
    {
     "data": {
      "image/png": "[encoded data removed]",
      "text/plain": [
       "<Figure size 432x288 with 1 Axes>"
      ]
     },
     "metadata": {
      "needs_background": "light"
     },
     "output_type": "display_data"
    }
   ],
   "source": [
    "# show energy plot to verify.\n",
    "%matplotlib inline\n",
    "import matplotlib.pyplot as plt\n",
    "\n",
    "fig, ax = plt.subplots()\n",
    "ax.plot(range(0,100), E[0:100])\n",
    "plt.grid()\n",
    "plt.show()"
   ]
  },
  {
   "cell_type": "markdown",
   "metadata": {},
   "source": [
    "***"
   ]
  }
 ],
 "metadata": {
  "kernelspec": {
   "display_name": "Python 3",
   "language": "python",
   "name": "python3"
  },
  "language_info": {
   "codemirror_mode": {
    "name": "ipython",
    "version": 3
   },
   "file_extension": ".py",
   "mimetype": "text/x-python",
   "name": "python",
   "nbconvert_exporter": "python",
   "pygments_lexer": "ipython3",
   "version": "3.7.3"
  }
 },
 "nbformat": 4,
 "nbformat_minor": 2
}
